{
 "cells": [
  {
   "cell_type": "markdown",
   "id": "32194e35",
   "metadata": {},
   "source": [
    "# GRADIENT DESCENT \n",
    "\n",
    "Implementation of the gradient descent from scratch using vectorization."
   ]
  },
  {
   "cell_type": "code",
   "execution_count": 22,
   "id": "c92733bf",
   "metadata": {},
   "outputs": [],
   "source": [
    "import numpy as np\n",
    "import numpy.linalg as la\n",
    "import matplotlib.pyplot as plt\n",
    "import copy, math"
   ]
  },
  {
   "cell_type": "code",
   "execution_count": 23,
   "id": "76afcf75",
   "metadata": {},
   "outputs": [],
   "source": [
    "# Creating a databases of house price (@ChatGPT)\n",
    "\n",
    "np.random.seed(0)  # for reproducibility\n",
    "\n",
    "# Number of examples\n",
    "N = 100\n",
    "\n",
    "# Feature matrix\n",
    "# Sizes | Bedrooms | Rooms | Age\n",
    "X = np.random.randint(low=1, high=10, size=(N, 4))  # Random integers between 1 and 10\n",
    "X = X * np.array([1000, 200, 50, 10])  # Scale each feature differently\n",
    "\n",
    "# Weights for generating the prices\n",
    "true_w = np.array([0.3, 0.5, 0.1, 0.05])\n",
    "\n",
    "# Generate the prices\n",
    "y = X @ true_w + np.random.normal(loc=0, scale=5, size=N)"
   ]
  },
  {
   "cell_type": "code",
   "execution_count": 24,
   "id": "1c236a02",
   "metadata": {
    "scrolled": true
   },
   "outputs": [],
   "source": [
    "\n",
    "\n",
    "# Weights\n",
    "w = np.zeros((4))\n",
    "# Biases\n",
    "b = 0."
   ]
  },
  {
   "cell_type": "code",
   "execution_count": 25,
   "id": "8739b2a9",
   "metadata": {},
   "outputs": [],
   "source": [
    "def gradient(X, y, w, b):\n",
    "    N, D = X.shape\n",
    "    djdw = np.zeros((D,))\n",
    "    djdb = 0.\n",
    "    \n",
    "    f_wb = w @ X.T + b # Model f_wb(X)\n",
    "    err = f_wb - y\n",
    "    djdw = (err @ X) / N\n",
    "    djdb = np.sum(err) / N\n",
    "    \n",
    "    return djdw, djdb"
   ]
  },
  {
   "cell_type": "code",
   "execution_count": 26,
   "id": "6f183f63",
   "metadata": {
    "scrolled": true
   },
   "outputs": [],
   "source": [
    "def grad_desc(X, y, w_init, b_init, gradient, learning_rate, num_iters):\n",
    "    #Setting up the variables\n",
    "    N, D = X.shape\n",
    "    w = w_init\n",
    "    b = b_init\n",
    "    a = learning_rate\n",
    "    J_history = []\n",
    "    \n",
    "    #Starting gradient descent:\n",
    "    for i in range(num_iters):\n",
    "        djdw, djdb = gradient(X, y, w, b)\n",
    "        w = w - (a * djdw)\n",
    "        b = b - (a * djdb)\n",
    "\n",
    "        # compute cost function after updating w and b\n",
    "        f_wb = w @ X.T + b\n",
    "        J = np.sum((f_wb - y)**2) /(2*N)\n",
    "        J_history.append(J)\n",
    "        \n",
    "#         if (i+1)%1000 == 0:\n",
    "#             print(f\"Iteration {i+1}: Cost function J = {J}\")  # This will print the value of J at each iteration\n",
    "    \n",
    "    return J, J_history, f_wb, w, b"
   ]
  },
  {
   "cell_type": "code",
   "execution_count": 27,
   "id": "9e4b4e27",
   "metadata": {
    "scrolled": true
   },
   "outputs": [],
   "source": [
    "a = 0.000000022\n",
    "num_iters = 1000 # use 1_000 for a beautiful convergence line, use 10_000 for efficient model (see R-squared)\n",
    "\n",
    "J, J_hist, f_wb, w, b = grad_desc(X, y, w, b, gradient, a, num_iters)"
   ]
  },
  {
   "cell_type": "code",
   "execution_count": 28,
   "id": "bc75b6da",
   "metadata": {},
   "outputs": [
    {
     "data": {
      "image/png": "[encoded data removed]",
      "text/plain": [
       "<Figure size 800x500 with 1 Axes>"
      ]
     },
     "metadata": {},
     "output_type": "display_data"
    },
    {
     "data": {
      "text/plain": [
       "20.130353136027512"
      ]
     },
     "execution_count": 28,
     "metadata": {},
     "output_type": "execute_result"
    }
   ],
   "source": [
    "fig, ax = plt.subplots(figsize = (8, 5))\n",
    "\n",
    "plt.title(\"Cost function convergence\")\n",
    "plt.plot(J_hist)\n",
    "plt.xlabel('Iteration')\n",
    "plt.ylabel('Cost J')\n",
    "plt.show()\n",
    "J"
   ]
  },
  {
   "cell_type": "code",
   "execution_count": 29,
   "id": "580e1d69",
   "metadata": {},
   "outputs": [
    {
     "name": "stdout",
     "output_type": "stream",
     "text": [
      "R-squared: 99.99406933362084\n"
     ]
    }
   ],
   "source": [
    "ss_res = np.sum((y - f_wb)**2)   # Sum of residual squares\n",
    "ss_tot = np.sum((y - np.mean(y))**2)  # Total sum of squares\n",
    "r2 = 1 - (ss_res / ss_tot)\n",
    "print(\"R-squared:\", r2*100)"
   ]
  },
  {
   "cell_type": "code",
   "execution_count": 30,
   "id": "8d747de6",
   "metadata": {},
   "outputs": [
    {
     "data": {
      "text/plain": [
       "(array([0.30061842, 0.50240842, 0.08277554, 0.01439857]),\n",
       " 0.00028443136410030354)"
      ]
     },
     "execution_count": 30,
     "metadata": {},
     "output_type": "execute_result"
    }
   ],
   "source": [
    "w, b"
   ]
  },
  {
   "cell_type": "code",
   "execution_count": null,
   "id": "be9c6784",
   "metadata": {},
   "outputs": [],
   "source": []
  }
 ],
 "metadata": {
  "kernelspec": {
   "display_name": "Python 3 (ipykernel)",
   "language": "python",
   "name": "python3"
  },
  "language_info": {
   "codemirror_mode": {
    "name": "ipython",
    "version": 3
   },
   "file_extension": ".py",
   "mimetype": "text/x-python",
   "name": "python",
   "nbconvert_exporter": "python",
   "pygments_lexer": "ipython3",
   "version": "3.11.3"
  }
 },
 "nbformat": 4,
 "nbformat_minor": 5
}
