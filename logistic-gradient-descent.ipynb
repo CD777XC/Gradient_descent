{
 "cells": [
  {
   "cell_type": "markdown",
   "id": "4d977138",
   "metadata": {},
   "source": [
    "# Logistic Regression gradient descent\n",
    "\n",
    "Implementing the gradient descent for logistic regression <strong>from scratch</strong> then comparing the result from random data with the <i>Scikit Learn</i> algorithm."
   ]
  },
  {
   "cell_type": "code",
   "execution_count": 18,
   "id": "a06f6f8e",
   "metadata": {},
   "outputs": [],
   "source": [
    "import numpy as np\n",
    "import matplotlib.pyplot as plt\n",
    "import copy, math"
   ]
  },
  {
   "cell_type": "code",
   "execution_count": 62,
   "id": "7c5bbda0",
   "metadata": {},
   "outputs": [],
   "source": [
    "#Test values\n",
    "\n",
    "X = np.array([[34.62, 78.02], \n",
    "              [30.28, 43.89], \n",
    "              [35.84, 72.90], \n",
    "              [60.18, 86.30], \n",
    "              [79.03, 75.34]])\n",
    "\n",
    "y = np.array([0, 0, 0, 1, 1])\n",
    "\n",
    "init_w = np.zeros(X.shape[1])\n",
    "\n",
    "init_b = 0"
   ]
  },
  {
   "cell_type": "code",
   "execution_count": 63,
   "id": "f5c47279",
   "metadata": {},
   "outputs": [],
   "source": [
    "def sigmoid(z):\n",
    "    \n",
    "    g = 1 / (1+np.exp(-z))\n",
    "    \n",
    "    return g"
   ]
  },
  {
   "cell_type": "code",
   "execution_count": 64,
   "id": "ae888218",
   "metadata": {},
   "outputs": [],
   "source": [
    "def compute_cost(X, y, w, b):\n",
    "    \n",
    "    m, n = X.shape\n",
    "    z = X @ w + b\n",
    "    f_wb = sigmoid(z)\n",
    "    \n",
    "    cost = (1 / m) * np.sum((-y *np.log(f_wb)) - ((1 - y) * np.log(1 - f_wb)))\n",
    "    \n",
    "    return cost"
   ]
  },
  {
   "cell_type": "code",
   "execution_count": 65,
   "id": "5daabe08",
   "metadata": {},
   "outputs": [
    {
     "data": {
      "text/plain": [
       "0.6931471805599454"
      ]
     },
     "execution_count": 65,
     "metadata": {},
     "output_type": "execute_result"
    }
   ],
   "source": [
    "compute_cost(X, y, init_w, init_b)"
   ]
  },
  {
   "cell_type": "code",
   "execution_count": null,
   "id": "5000d4e4",
   "metadata": {},
   "outputs": [],
   "source": []
  }
 ],
 "metadata": {
  "kernelspec": {
   "display_name": "Python 3 (ipykernel)",
   "language": "python",
   "name": "python3"
  },
  "language_info": {
   "codemirror_mode": {
    "name": "ipython",
    "version": 3
   },
   "file_extension": ".py",
   "mimetype": "text/x-python",
   "name": "python",
   "nbconvert_exporter": "python",
   "pygments_lexer": "ipython3",
   "version": "3.11.3"
  }
 },
 "nbformat": 4,
 "nbformat_minor": 5
}
